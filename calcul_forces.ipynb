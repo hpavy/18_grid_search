{
 "cells": [
  {
   "cell_type": "markdown",
   "metadata": {},
   "source": [
    "## On essaye de calculer les forces de pression autour du cylindre "
   ]
  },
  {
   "cell_type": "code",
   "execution_count": 11,
   "metadata": {},
   "outputs": [],
   "source": [
    "from animate import anim \n",
    "import numpy as np\n",
    "import torch \n",
    "from model import PINNs\n",
    "from deepxrte.geometry import Rectangle\n",
    "import pandas as pd\n",
    "from utils import charge_data\n",
    "import json\n",
    "import matplotlib.pyplot as plt"
   ]
  },
  {
   "cell_type": "code",
   "execution_count": 12,
   "metadata": {},
   "outputs": [
    {
     "data": {
      "text/plain": [
       "<All keys matched successfully>"
      ]
     },
     "execution_count": 12,
     "metadata": {},
     "output_type": "execute_result"
    }
   ],
   "source": [
    "# On importe le modèle entrainé\n",
    "\n",
    "with open(\"results/1_first_try\" + \"/hyper_param.json\", \"r\") as file:\n",
    "    hyper_param = json.load(file)\n",
    "\n",
    "model = PINNs(hyper_param)\n",
    "checkpoint = torch.load('results/1_first_try/epoch3200'+'/model_weights.pth', map_location=torch.device('cpu'))\n",
    "model.load_state_dict(checkpoint['model_state_dict'])\n"
   ]
  },
  {
   "cell_type": "code",
   "execution_count": 13,
   "metadata": {},
   "outputs": [],
   "source": [
    "param_adim = {\n",
    "    'V':2,\n",
    "    'L':0.025,\n",
    "    'rho': 1.2\n",
    "}"
   ]
  },
  {
   "cell_type": "code",
   "execution_count": 14,
   "metadata": {},
   "outputs": [],
   "source": [
    "X_train, U_train, X_full, U_full, X_border, mean_std = charge_data(hyper_param, param_adim)\n",
    "X_pred = torch.tensor(X_full, dtype=torch.float32)\n",
    "U_pred = model(X_pred)\n",
    "x_norm_pred, y_norm_pred, t_norm_pred = X_pred.detach().numpy()[:,0], X_pred.detach().numpy()[:,1], X_pred.detach().numpy()[:,2]\n",
    "u_norm_pred, v_norm_pred, p_norm_pred = U_pred.detach().numpy()[:,0], U_pred.detach().numpy()[:,1], U_pred.detach().numpy()[:,2]\n"
   ]
  },
  {
   "cell_type": "markdown",
   "metadata": {},
   "source": [
    "On a pour la force de portance : \n",
    "\n",
    "$\n",
    "\\overrightarrow{F_p}=-\\int_{\\theta=0}^{2\\pi}(P(\\theta)sin(\\theta)rd\\theta) \\overrightarrow{u_y}\n",
    "$\n",
    "\n",
    "\n",
    "Pour la force de trainé :\n",
    "\n",
    "$\n",
    "\\overrightarrow{F_t}=-\\int_{\\theta=0}^{2\\pi}(P(\\theta)cos(\\theta)rd\\theta) \\overrightarrow{u_y}\n",
    "$"
   ]
  },
  {
   "cell_type": "code",
   "execution_count": 15,
   "metadata": {},
   "outputs": [
    {
     "data": {
      "text/plain": [
       "1.0"
      ]
     },
     "execution_count": 15,
     "metadata": {},
     "output_type": "execute_result"
    }
   ],
   "source": [
    "4/2-1"
   ]
  },
  {
   "cell_type": "code",
   "execution_count": 16,
   "metadata": {},
   "outputs": [],
   "source": [
    "# Calcul avec une intégration numérique : \n",
    "r = 0.025/2\n",
    "\n",
    "def P(theta, t):\n",
    "    x = r * np.cos(theta)\n",
    "    y = r * np.sin(theta)\n",
    "    x_ad = ((x / param_adim['L']) - mean_std['x_mean'])/mean_std['x_std']\n",
    "    y_ad = ((y / param_adim['L']) - mean_std['y_mean'])/mean_std['y_std']\n",
    "    t_ad = ((t / (param_adim['L'] / param_adim['V'])) - mean_std['t_mean'])/mean_std['t_std']\n",
    "    P_adim = model(torch.tensor([x_ad, y_ad, t_ad], dtype=torch.float32))[2]\n",
    "    P = ((P_adim * mean_std['p_std'] + mean_std['p_mean']))*((param_adim['V']**2)*param_adim['rho'])\n",
    "    return P.detach().item()\n",
    "    "
   ]
  },
  {
   "cell_type": "code",
   "execution_count": 17,
   "metadata": {},
   "outputs": [],
   "source": [
    "# Donne la pression mais dans une unité bizarre (des bar ?)"
   ]
  },
  {
   "cell_type": "code",
   "execution_count": 18,
   "metadata": {},
   "outputs": [
    {
     "data": {
      "text/plain": [
       "-0.8804306983947754"
      ]
     },
     "execution_count": 18,
     "metadata": {},
     "output_type": "execute_result"
    }
   ],
   "source": [
    "P(theta=3.14, t=0)"
   ]
  },
  {
   "cell_type": "code",
   "execution_count": 19,
   "metadata": {},
   "outputs": [],
   "source": [
    "def force_portance(t, N_points=1000):\n",
    "    \"\"\"Calcul la force de portance au temps t\"\"\"\n",
    "    d_theta = 2 * np.pi / N_points\n",
    "    sum_integrale = 0\n",
    "    for theta in np.linspace(0, 2*np.pi, N_points):\n",
    "        sum_integrale += - P(theta, t)*np.sin(theta)*r*d_theta\n",
    "    return sum_integrale\n",
    "\n",
    "def force_traine(t, N_points=1000):\n",
    "    \"\"\"Calcul la force de portance au temps t\"\"\"\n",
    "    d_theta = 2 * np.pi / N_points\n",
    "    sum_integrale = 0\n",
    "    for theta in np.linspace(0, 2*np.pi, N_points):\n",
    "        sum_integrale += - P(theta, t)*np.cos(theta)*r*d_theta\n",
    "    return sum_integrale"
   ]
  },
  {
   "cell_type": "code",
   "execution_count": 20,
   "metadata": {},
   "outputs": [],
   "source": [
    "time = np.linspace(0, 5, 200)"
   ]
  },
  {
   "cell_type": "code",
   "execution_count": 21,
   "metadata": {},
   "outputs": [],
   "source": [
    "portance = np.array([force_portance(t) for t in time])"
   ]
  },
  {
   "cell_type": "code",
   "execution_count": 22,
   "metadata": {},
   "outputs": [],
   "source": [
    "traine = np.array([force_traine(t) for t in time])"
   ]
  },
  {
   "cell_type": "code",
   "execution_count": 23,
   "metadata": {},
   "outputs": [
    {
     "data": {
      "text/plain": [
       "[<matplotlib.lines.Line2D at 0x12bbba9d0>]"
      ]
     },
     "execution_count": 23,
     "metadata": {},
     "output_type": "execute_result"
    },
    {
     "data": {
      "image/png": "[encoded data removed]",
      "text/plain": [
       "<Figure size 640x480 with 1 Axes>"
      ]
     },
     "metadata": {},
     "output_type": "display_data"
    }
   ],
   "source": [
    "plt.plot(time, portance)"
   ]
  },
  {
   "cell_type": "code",
   "execution_count": 24,
   "metadata": {},
   "outputs": [
    {
     "data": {
      "text/plain": [
       "[<matplotlib.lines.Line2D at 0x12bd7b410>]"
      ]
     },
     "execution_count": 24,
     "metadata": {},
     "output_type": "execute_result"
    },
    {
     "data": {
      "image/png": "[encoded data removed]",
      "text/plain": [
       "<Figure size 640x480 with 1 Axes>"
      ]
     },
     "metadata": {},
     "output_type": "display_data"
    }
   ],
   "source": [
    "plt.plot(time, traine)"
   ]
  },
  {
   "cell_type": "code",
   "execution_count": null,
   "metadata": {},
   "outputs": [],
   "source": []
  }
 ],
 "metadata": {
  "kernelspec": {
   "display_name": "base",
   "language": "python",
   "name": "python3"
  },
  "language_info": {
   "codemirror_mode": {
    "name": "ipython",
    "version": 3
   },
   "file_extension": ".py",
   "mimetype": "text/x-python",
   "name": "python",
   "nbconvert_exporter": "python",
   "pygments_lexer": "ipython3",
   "version": "3.11.8"
  }
 },
 "nbformat": 4,
 "nbformat_minor": 2
}
